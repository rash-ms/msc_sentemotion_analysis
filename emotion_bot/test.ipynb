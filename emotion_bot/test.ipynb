{
 "cells": [
  {
   "cell_type": "code",
   "id": "initial_id",
   "metadata": {
    "collapsed": true,
    "jupyter": {
     "is_executing": true
    }
   },
   "source": [
    "import joblib\n",
    "\n",
    "base_path = '../save_models/'\n",
    "\n",
    "loaded_model = joblib.load(f\"{base_path}/sent_cnn_best_model.pkl\")\n",
    "\n",
    "# print(loaded_model.get_params())\n",
    "if hasattr(loaded_model, 'summary'):\n",
    "    loaded_model.summary()\n",
    "else:\n",
    "    print(loaded_model)"
   ],
   "outputs": [],
   "execution_count": null
  },
  {
   "metadata": {},
   "cell_type": "code",
   "outputs": [],
   "execution_count": null,
   "source": "",
   "id": "61e500c136d24c38"
  }
 ],
 "metadata": {
  "kernelspec": {
   "display_name": "Python 3",
   "language": "python",
   "name": "python3"
  },
  "language_info": {
   "codemirror_mode": {
    "name": "ipython",
    "version": 2
   },
   "file_extension": ".py",
   "mimetype": "text/x-python",
   "name": "python",
   "nbconvert_exporter": "python",
   "pygments_lexer": "ipython2",
   "version": "2.7.6"
  }
 },
 "nbformat": 4,
 "nbformat_minor": 5
}
