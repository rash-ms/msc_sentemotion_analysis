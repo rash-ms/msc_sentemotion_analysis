{
 "cells": [
  {
   "cell_type": "code",
   "id": "initial_id",
   "metadata": {
    "collapsed": true,
    "ExecuteTime": {
     "end_time": "2025-07-27T18:06:25.095537Z",
     "start_time": "2025-07-27T18:06:24.986814Z"
    }
   },
   "source": [
    "import joblib\n",
    "\n",
    "base_path = '../model_src_code/save_models/'\n",
    "\n",
    "sentiment_model =f\"{base_path}/sent_cnn_best_model.pkl\" # CNN expects padded sequences\n",
    "emotion_model = '../model_src_code/emo_cnn_best_model.pkl'\n",
    "tokenizer = '../model_src_code/dl_tokenizer.pkl'\n",
    "\n",
    "\n",
    "loaded_model = joblib.load(sentiment_model)\n",
    "# print(loaded_model.get_params())\n",
    "\n",
    "if hasattr(loaded_model, 'summary'):\n",
    "    loaded_model.summary()\n",
    "else:\n",
    "    print(loaded_model)"
   ],
   "outputs": [
    {
     "name": "stdout",
     "output_type": "stream",
     "text": [
      "<keras.src.callbacks.history.History object at 0x14ffb4970>\n"
     ]
    }
   ],
   "execution_count": 8
  },
  {
   "metadata": {},
   "cell_type": "code",
   "outputs": [],
   "execution_count": null,
   "source": "",
   "id": "682884ed0b34fc61"
  }
 ],
 "metadata": {
  "kernelspec": {
   "display_name": "Python 3",
   "language": "python",
   "name": "python3"
  },
  "language_info": {
   "codemirror_mode": {
    "name": "ipython",
    "version": 2
   },
   "file_extension": ".py",
   "mimetype": "text/x-python",
   "name": "python",
   "nbconvert_exporter": "python",
   "pygments_lexer": "ipython2",
   "version": "2.7.6"
  }
 },
 "nbformat": 4,
 "nbformat_minor": 5
}
