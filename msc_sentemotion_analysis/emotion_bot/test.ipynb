{
 "cells": [
  {
   "cell_type": "code",
   "id": "initial_id",
   "metadata": {
    "collapsed": true,
    "ExecuteTime": {
     "end_time": "2025-07-29T22:43:50.881118Z",
     "start_time": "2025-07-29T22:43:50.696474Z"
    }
   },
   "source": [
    "import os\n",
    "import joblib\n",
    "import pandas as pd\n",
    "from sklearn.pipeline import Pipeline\n",
    "from sklearn.linear_model import LogisticRegression\n",
    "from sklearn.feature_extraction.text import TfidfVectorizer\n",
    "from sklearn.model_selection import train_test_split\n",
    "\n",
    "# Configuration\n",
    "SAMPLE_SIZE = 10000\n",
    "SEED = 42\n",
    "MAX_FEATURES = 5000\n",
    "x_col = 'sentence'\n",
    "y_col = 'sentiment'\n",
    "\n",
    "# Load your dataset\n",
    "df = pd.read_csv(\"./dataset/combined_sentiment_data.csv\")  # Replace with actual path\n",
    "\n",
    "# Sample if large\n",
    "if len(df) > SAMPLE_SIZE:\n",
    "    df = df.sample(n=SAMPLE_SIZE, random_state=SEED)\n",
    "\n",
    "# Encode labels\n",
    "label_list = sorted(df[y_col].unique().tolist())\n",
    "label_to_index = {label: idx for idx, label in enumerate(label_list)}\n",
    "df['label'] = df[y_col].map(label_to_index)\n",
    "\n",
    "# Split\n",
    "X_train, X_test, y_train, y_test = train_test_split(\n",
    "    df[x_col], df['label'], test_size=0.3, stratify=df['label'], random_state=SEED\n",
    ")\n",
    "\n",
    "# Create and train pipeline\n",
    "pipeline = Pipeline([\n",
    "    ('vectorizer', TfidfVectorizer(max_features=MAX_FEATURES, stop_words='english', ngram_range=(1, 2))),\n",
    "    ('classifier', LogisticRegression())\n",
    "])\n",
    "\n",
    "pipeline.fit(X_train, y_train)\n",
    "\n",
    "# Save pipeline\n",
    "model_path = './save_models/sentiment_pipeline.pkl'\n",
    "os.makedirs(os.path.dirname(model_path), exist_ok=True)\n",
    "joblib.dump(pipeline, model_path)\n"
   ],
   "outputs": [
    {
     "data": {
      "text/plain": [
       "['./save_models/sentiment_pipeline.pkl']"
      ]
     },
     "execution_count": 4,
     "metadata": {},
     "output_type": "execute_result"
    }
   ],
   "execution_count": 4
  },
  {
   "metadata": {},
   "cell_type": "code",
   "outputs": [],
   "execution_count": null,
   "source": "",
   "id": "f995cae61f880155"
  },
  {
   "metadata": {},
   "cell_type": "code",
   "outputs": [],
   "execution_count": null,
   "source": "",
   "id": "146fbf8a5238da9f"
  }
 ],
 "metadata": {
  "kernelspec": {
   "display_name": "Python 3",
   "language": "python",
   "name": "python3"
  },
  "language_info": {
   "codemirror_mode": {
    "name": "ipython",
    "version": 2
   },
   "file_extension": ".py",
   "mimetype": "text/x-python",
   "name": "python",
   "nbconvert_exporter": "python",
   "pygments_lexer": "ipython2",
   "version": "2.7.6"
  }
 },
 "nbformat": 4,
 "nbformat_minor": 5
}
